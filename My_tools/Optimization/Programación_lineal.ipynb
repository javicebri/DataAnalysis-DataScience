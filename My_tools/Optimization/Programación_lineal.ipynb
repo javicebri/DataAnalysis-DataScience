{
 "cells": [
  {
   "cell_type": "markdown",
   "id": "b71d2637",
   "metadata": {},
   "source": [
    "# Optimizacion"
   ]
  },
  {
   "cell_type": "markdown",
   "id": "082b45ac",
   "metadata": {},
   "source": [
    "Ejemplos de problemas con la librería scipy\n",
    "\n",
    "@author: Javier Cebrián"
   ]
  },
  {
   "cell_type": "code",
   "execution_count": 1,
   "id": "4f4060fc",
   "metadata": {},
   "outputs": [],
   "source": [
    "from scipy.optimize import linprog, minimize, LinearConstraint\n",
    "\n",
    "# from scipy.optimize import milp\n",
    "\n",
    "from pulp import *\n",
    "import numpy as np\n",
    "import matplotlib.pyplot as plt\n",
    "import numpy as np"
   ]
  },
  {
   "cell_type": "markdown",
   "id": "f96aa331",
   "metadata": {},
   "source": [
    "## 1. Programación lineal"
   ]
  },
  {
   "cell_type": "markdown",
   "id": "46d08fcc",
   "metadata": {},
   "source": [
    "Dado un problema general del siguiente tipo:\n",
    "\n",
    "$$ \\min_{x}{c^T x} $$\n",
    "$$ A_{ub} x \\leq b_{ub} $$\n",
    "$$ x \\leq 0 $$\n",
    "$$ x \\in \\mathbb{R^N} $$\n",
    "\n",
    "Donde $c$ son los coeficientes de la función de coste, $A_{ub}$ la matriz de coeficientes de restricción y $b$ la matriz de límites de dichas restricciones. Además, se plantea el problema para el caso de variable perteneciente a los números reales."
   ]
  },
  {
   "cell_type": "markdown",
   "id": "00f5be48",
   "metadata": {},
   "source": [
    "Se incluyen los siguientes Ejemplos:\n",
    "\n",
    "- Ejemplo 1.1: Programación lineal continua con scipy\n",
    "- Ejemplo 1.2: Progrmación lineal continua con la función minimize de scipy\n",
    "    - 1.2.1 Definición con restricciones lineales\n",
    "    - 1.2.2 Definición con restricciones generalizadas\n",
    "- Ejemplo 1.3: Programación lineal continua con PULP\n",
    "- Ejemplo 1.4: Programación lineal con valores enteros con PULP\n",
    "\n",
    "\n",
    "*A fecha de esta edición from scipy.optimize import milp no está disponible en la versión estable.\n",
    "    "
   ]
  },
  {
   "cell_type": "markdown",
   "id": "bc8d3524",
   "metadata": {},
   "source": [
    "### Ejemplo 1.1"
   ]
  },
  {
   "cell_type": "markdown",
   "id": "c1c19ed2",
   "metadata": {},
   "source": [
    "Se quiere resolver el problema de optimización:\n",
    "\n",
    "$$ \\space \\space \\max_{x_1,x_2}{3x_1+x_2} $$\n",
    "$$ 5x_1 + x_2 \\leq 20 $$\n",
    "$$ -5x_1 + 2x_2 \\leq 8 $$\n",
    "$$ x_1 , x_2 \\geq 0 $$\n",
    "$$ x_1 , x_2 \\in \\mathbb{R} $$"
   ]
  },
  {
   "cell_type": "markdown",
   "id": "4b7cf50e",
   "metadata": {},
   "source": [
    "El primer paso crear la lista que contine los coeficientes de la función de coste.\n",
    "Scipy.optimize.linprog minimiza la función por defecto, por lo que en el caso de querer minimizar:\n",
    "$$ \\max_{x_1,x_2}{3x_1+x_2} \\space\t\\rightarrow \\space c = [3,1], $$\n",
    "En el caso contrario, para maximizar: \n",
    "$$ \\max_{x_1,x_2}{3x_1+x_2} \\space\t\\rightarrow  \\space c = [-3,-1]$$\n"
   ]
  },
  {
   "cell_type": "code",
   "execution_count": 2,
   "id": "42ce791e",
   "metadata": {},
   "outputs": [],
   "source": [
    "c = [-3,-1]"
   ]
  },
  {
   "cell_type": "markdown",
   "id": "be2a9407",
   "metadata": {},
   "source": [
    "A continuación, se define la matriz de coeficientes de restricción y sus límites $$A_{ub} , b_{ub}$$\n",
    "\n",
    "Por defecto Scipy.optimize.linprog asume $\\leq$"
   ]
  },
  {
   "cell_type": "code",
   "execution_count": 3,
   "id": "a8ca7ecf",
   "metadata": {},
   "outputs": [],
   "source": [
    "A_ub = [[5,1],\n",
    "        [-5,2]]\n",
    "\n",
    "b_ub = [20,8]"
   ]
  },
  {
   "cell_type": "markdown",
   "id": "c850b32a",
   "metadata": {},
   "source": [
    "Por otra parte los límites de las variables se definen mediante tuplas:"
   ]
  },
  {
   "cell_type": "code",
   "execution_count": 4,
   "id": "9b25efe5",
   "metadata": {},
   "outputs": [],
   "source": [
    "x1_bounds = (0,None)\n",
    "x2_bounds = (0,None)"
   ]
  },
  {
   "cell_type": "markdown",
   "id": "607d723d",
   "metadata": {},
   "source": [
    "Por último se resuelve el problema:"
   ]
  },
  {
   "cell_type": "code",
   "execution_count": 5,
   "id": "e2e90e35",
   "metadata": {},
   "outputs": [
    {
     "name": "stdout",
     "output_type": "stream",
     "text": [
      "     con: array([], dtype=float64)\n",
      "     fun: -15.733333278792525\n",
      " message: 'Optimization terminated successfully.'\n",
      "     nit: 4\n",
      "   slack: array([5.10094225e-08, 1.28504238e-07])\n",
      "  status: 0\n",
      " success: True\n",
      "       x: array([2.13333334, 9.33333327])\n",
      "\n",
      "Solución: [2.13333334 9.33333327]\n"
     ]
    }
   ],
   "source": [
    "model_linear = linprog(c=c,\n",
    "                      A_ub=A_ub,\n",
    "                      b_ub = b_ub,\n",
    "                      bounds = [x1_bounds,x2_bounds])\n",
    "\n",
    "print(str(model_linear))\n",
    "print('')\n",
    "print('Solución: ' + str(model_linear['x']))"
   ]
  },
  {
   "cell_type": "markdown",
   "id": "1e000130",
   "metadata": {},
   "source": [
    "Representación gráfica"
   ]
  },
  {
   "cell_type": "code",
   "execution_count": 6,
   "id": "1ace4634",
   "metadata": {},
   "outputs": [
    {
     "data": {
      "image/png": "[encoded data removed]",
      "text/plain": [
       "<Figure size 720x360 with 1 Axes>"
      ]
     },
     "metadata": {
      "needs_background": "light"
     },
     "output_type": "display_data"
    }
   ],
   "source": [
    "solution = model_linear['x']\n",
    "x_1 = np.linspace(0, 5, 10)\n",
    "x_2 = x_1\n",
    "\n",
    "x_21 = 20 - 5*x_1\n",
    "x_22 = (8 + 5*x_1) / 2\n",
    " \n",
    "fig = plt.figure(figsize = (10, 5))\n",
    "\n",
    "plt.axvline(x = 0, color ='cornflowerblue', label = r'$x_1 \\geq 0$')\n",
    "plt.axhline(y = 0, color ='orange', label = r'$x_2 \\geq 0$')\n",
    "plt.plot(x_1, x_21, color='green', label=r'$5x_1 + x_2 \\leq 20$')\n",
    "plt.plot(x_1, x_22, color='red', label=r'$-5x_1 + 2x_2 \\leq 10$')\n",
    "plt.plot(solution[0], solution[1], 'bo', label=r'Solution')\n",
    "# plt.fill_between(x_1, x_21, x_22, where=(x_21>0) & (x_21<x_1)  , color='grey', alpha=0.5)\n",
    " \n",
    "plt.xlabel('$x_1$')\n",
    "plt.ylabel('$x_2$')\n",
    "plt.legend()\n",
    "           \n",
    "plt.show()"
   ]
  },
  {
   "cell_type": "markdown",
   "id": "85edea71",
   "metadata": {},
   "source": [
    "### Ejemplo 1.2 Optimizar el mismo problema con la función minimize de scipy"
   ]
  },
  {
   "cell_type": "markdown",
   "id": "127e02d1",
   "metadata": {},
   "source": [
    "La función minimize permite resolver muchos más problemas de optimización y por supuesto incluye el caso de optmización lineal. A continuación se va a presentr con dos posibles formas de definir las restricciones.\n",
    "\n",
    "Se quiere resolver el problema de optimización:\n",
    "\n",
    "$$ \\space \\space \\max_{x_1,x_2}{3x_1+x_2} $$\n",
    "$$ 5x_1 + x_2 \\leq 20 $$\n",
    "$$ -5x_1 + 2x_2 \\leq 8 $$\n",
    "$$ x_1 , x_2 \\geq 0 $$\n",
    "$$ x_1 , x_2 \\in \\mathbb{R} $$"
   ]
  },
  {
   "cell_type": "markdown",
   "id": "04520a0d",
   "metadata": {},
   "source": [
    "#### Ejemplo 1.2.1 Definición con restricciones lineales\n",
    "\n",
    "Se definen los coeficientes que multiplican las varaibles de la función objetivo:"
   ]
  },
  {
   "cell_type": "code",
   "execution_count": 7,
   "id": "47dd9733",
   "metadata": {},
   "outputs": [],
   "source": [
    "coef = np.array([3,1])\n",
    "\n",
    "def funcion_objetivo(x, coef):\n",
    "    return -sum(coef*x)"
   ]
  },
  {
   "cell_type": "markdown",
   "id": "52f0a0d5",
   "metadata": {},
   "source": [
    "Se definen las restricciones y los límites:\n",
    "Como este es un problema de tipo lineal se define con LinearConstraint. Para los casos generalizados ver la definición con [{'type': 'ineq', 'fun': lambda x:  x[0] - 2 * x[1] + 2},...]\n",
    "\n",
    "Las restricciones tienen la siguiente forma para LinearConstraint: lb <= A.dot(x) <= ub, es decir son menor o igual. \n",
    "En el caso de uno de los límites no incluidos, se puede utiliza np.inf\n",
    "\n",
    "Para los rangos en los que está definido el problema se crean tantas tuplas como variables de la función objetivo."
   ]
  },
  {
   "cell_type": "code",
   "execution_count": 8,
   "id": "c8e62c2c",
   "metadata": {},
   "outputs": [],
   "source": [
    "constraint_1 = LinearConstraint(np.array([5,1]), lb=-np.inf, ub=20)\n",
    "constraint_2 = LinearConstraint(np.array([-5,2]), lb=np.inf, ub=8)\n",
    "bounds = [(0, None) for n in range(0,2)]"
   ]
  },
  {
   "cell_type": "markdown",
   "id": "eea80de4",
   "metadata": {},
   "source": [
    "Se define la función de optimización en la x0 son los valores iniciales:"
   ]
  },
  {
   "cell_type": "code",
   "execution_count": 9,
   "id": "170ea86c",
   "metadata": {},
   "outputs": [
    {
     "data": {
      "text/plain": [
       "     fun: -0.0\n",
       "     jac: array([-3., -1.])\n",
       " message: 'Inequality constraints incompatible'\n",
       "    nfev: 3\n",
       "     nit: 1\n",
       "    njev: 1\n",
       "  status: 4\n",
       " success: False\n",
       "       x: array([0., 0.])"
      ]
     },
     "execution_count": 9,
     "metadata": {},
     "output_type": "execute_result"
    }
   ],
   "source": [
    "res = minimize(\n",
    "    funcion_objetivo,\n",
    "    x0=np.array([0,0]),\n",
    "    args=(coef,),\n",
    "    constraints=[constraint_1, constraint_2],\n",
    "    bounds=bounds,\n",
    ")\n",
    "res"
   ]
  },
  {
   "cell_type": "markdown",
   "id": "8fba6e00",
   "metadata": {},
   "source": [
    "#### Ejemplo 1.2.2 Definición con restricciones generalizadas\n",
    "Para el caso en el que se definen las restricciones de forma generalizada hay que tener en cuenta que se considera constr_fun >= 0\n",
    "    \n",
    "Lo que antes era: $\\newline$\n",
    "constraint_1 = LinearConstraint(np.array([5,1]), lb=-np.inf, ub=20) $\\newline$\n",
    "constraint_2 = LinearConstraint(np.array([-5,2]), lb=np.inf, ub=8)  $\\newline$\n",
    "Ahora es: $\\newline$\n",
    "cons = [{'type': 'ineq', 'fun': lambda x:  -5*x[0] -x[1] + 20}, \n",
    "        {'type': 'ineq', 'fun': lambda x: 5*x[0] - 2*x[1] + 8}] "
   ]
  },
  {
   "cell_type": "code",
   "execution_count": 10,
   "id": "59585e09",
   "metadata": {},
   "outputs": [],
   "source": [
    "cons = [{'type': 'ineq', 'fun': lambda x:  -5*x[0] -x[1] + 20},\n",
    "        {'type': 'ineq', 'fun': lambda x: 5*x[0] - 2*x[1] + 8}]\n",
    "bounds = [(0, None) for n in range(0,2)]"
   ]
  },
  {
   "cell_type": "code",
   "execution_count": 11,
   "id": "d182e57b",
   "metadata": {},
   "outputs": [
    {
     "data": {
      "text/plain": [
       "     fun: -15.73333333332734\n",
       "     jac: array([-3., -1.])\n",
       " message: 'Optimization terminated successfully'\n",
       "    nfev: 18\n",
       "     nit: 6\n",
       "    njev: 6\n",
       "  status: 0\n",
       " success: True\n",
       "       x: array([2.13333333, 9.33333333])"
      ]
     },
     "execution_count": 11,
     "metadata": {},
     "output_type": "execute_result"
    }
   ],
   "source": [
    "res = minimize(\n",
    "    funcion_objetivo,\n",
    "    x0=np.array([0,0]),\n",
    "    args=(coef),\n",
    "    constraints=cons,\n",
    "    bounds=bounds,\n",
    ")\n",
    "res"
   ]
  },
  {
   "cell_type": "markdown",
   "id": "978f4fa6",
   "metadata": {},
   "source": [
    "### Ejemplo 1.3 Optimizar el mismo problema con la librería PULP"
   ]
  },
  {
   "cell_type": "markdown",
   "id": "6f808b64",
   "metadata": {},
   "source": [
    "El primer paso es declarar el problema, LpMaximize para el caso de maximizar la función y LpMinimize en el contrario."
   ]
  },
  {
   "cell_type": "code",
   "execution_count": 12,
   "id": "6f08cba6",
   "metadata": {},
   "outputs": [],
   "source": [
    "prob = LpProblem('Ejemplo_1_2', LpMaximize)"
   ]
  },
  {
   "cell_type": "markdown",
   "id": "319c9e19",
   "metadata": {},
   "source": [
    "A continuación, se declaran las variables:\n",
    "1- La lista con los nombres de las variables\n",
    "2- Diccionario de variables. La función genera un diccionario con las keys tomadas de los str de la lista del paso 1 y unos values con los mismos nombre el prefijo \"var_\"\" (puede ser un str con cualquier nombre). Además podemos fijar el límite inferior y superior y el tipo de variable (i.e. Continuous o Integer)"
   ]
  },
  {
   "cell_type": "code",
   "execution_count": 13,
   "id": "ec45dba2",
   "metadata": {},
   "outputs": [
    {
     "data": {
      "text/plain": [
       "{'x_1': var_x_1, 'x_2': var_x_2}"
      ]
     },
     "execution_count": 13,
     "metadata": {},
     "output_type": "execute_result"
    }
   ],
   "source": [
    "variables = ['x_1', 'x_2']\n",
    "variables_vars = LpVariable.dicts(\"var\", variables, lowBound=0, cat='Continuous')\n",
    "variables_vars"
   ]
  },
  {
   "cell_type": "markdown",
   "id": "18e0901f",
   "metadata": {},
   "source": [
    "Creación de la función objetivo"
   ]
  },
  {
   "cell_type": "code",
   "execution_count": 14,
   "id": "f688e75a",
   "metadata": {},
   "outputs": [],
   "source": [
    "c = dict(zip(variables,[3,1]))\n",
    "prob += lpSum([variables_vars[i]*c[i] for i in variables])"
   ]
  },
  {
   "cell_type": "markdown",
   "id": "085c400a",
   "metadata": {},
   "source": [
    "Declaración de un diccionario para cada restricción:\n",
    "$$ 5x_1 + x_2 \\leq 20 $$\n",
    "$$ -5x_1 + 2x_2 \\leq 8 $$"
   ]
  },
  {
   "cell_type": "code",
   "execution_count": 15,
   "id": "3bf6b047",
   "metadata": {},
   "outputs": [
    {
     "data": {
      "text/plain": [
       "Ejemplo_1_2:\n",
       "MAXIMIZE\n",
       "3*var_x_1 + 1*var_x_2 + 0\n",
       "SUBJECT TO\n",
       "restriccion_1: 5 var_x_1 + var_x_2 <= 20\n",
       "\n",
       "restriccion_2: - 5 var_x_1 + 2 var_x_2 <= 8\n",
       "\n",
       "VARIABLES\n",
       "var_x_1 Continuous\n",
       "var_x_2 Continuous"
      ]
     },
     "execution_count": 15,
     "metadata": {},
     "output_type": "execute_result"
    }
   ],
   "source": [
    "restriction_1 = dict(zip(variables, [5, 1]))\n",
    "restriction_2 = dict(zip(variables, [-5, 2]))\n",
    "prob += lpSum([variables_vars[x]*restriction_1[x] for x in variables]) <= 20, \"restriccion_1\"\n",
    "prob += lpSum([variables_vars[x]*restriction_2[x] for x in variables]) <= 8, \"restriccion_2\"\n",
    "prob"
   ]
  },
  {
   "cell_type": "markdown",
   "id": "c989be82",
   "metadata": {},
   "source": [
    "Cálculo de la solución"
   ]
  },
  {
   "cell_type": "code",
   "execution_count": 16,
   "id": "c5a8c747",
   "metadata": {},
   "outputs": [
    {
     "data": {
      "text/plain": [
       "'Optimal'"
      ]
     },
     "execution_count": 16,
     "metadata": {},
     "output_type": "execute_result"
    }
   ],
   "source": [
    "prob.solve()\n",
    "LpStatus[prob.status]"
   ]
  },
  {
   "cell_type": "code",
   "execution_count": 17,
   "id": "c22d8246",
   "metadata": {},
   "outputs": [
    {
     "name": "stdout",
     "output_type": "stream",
     "text": [
      "Variable name: var_x_1 , Variable value : 2.1333333n\n",
      "Variable name: var_x_2 , Variable value : 9.3333333n\n",
      "\n",
      "constraint name:restriccion_1, constraint value:-2.0000000056086265e-07n\n",
      "constraint name:restriccion_2, constraint value:1.0000000116860974e-07n\n",
      "\n",
      "OBJECTIVE VALUE IS: 15.733333199999999\n"
     ]
    }
   ],
   "source": [
    "for var in prob.variables():\n",
    "    print(f'Variable name: {var.name} , Variable value : {var.value()}n')\n",
    "print('')\n",
    "#We can also see the slack variables of the constraints\n",
    "for name, con in prob.constraints.items():\n",
    "    print(f'constraint name:{name}, constraint value:{con.value()}n')\n",
    "print('')\n",
    "## OBJECTIVE VALUE\n",
    "print(f'OBJECTIVE VALUE IS: {prob.objective.value()}')"
   ]
  },
  {
   "cell_type": "code",
   "execution_count": 18,
   "id": "7dbb4f7e",
   "metadata": {},
   "outputs": [
    {
     "data": {
      "image/png": "[encoded data removed]",
      "text/plain": [
       "<Figure size 720x360 with 1 Axes>"
      ]
     },
     "metadata": {
      "needs_background": "light"
     },
     "output_type": "display_data"
    }
   ],
   "source": [
    "solution = [prob.variables()[0].value(),\n",
    "            prob.variables()[1].value()]\n",
    "\n",
    "x_1 = np.linspace(0, 5, 10)\n",
    "x_2 = x_1\n",
    "\n",
    "restriction_1 = 20 - 5*x_1\n",
    "restriction_2 = (8 + 5*x_1) / 2\n",
    " \n",
    "fig = plt.figure(figsize = (10, 5))\n",
    "\n",
    "plt.axvline(x = 0, color ='cornflowerblue', label = r'$x_1 \\geq 0$')\n",
    "plt.axhline(y = 0, color ='orange', label = r'$x_2 \\geq 0$')\n",
    "plt.plot(x_1, restriction_1, color='green', label=r'$5x_1 + x_2 \\leq 20$')\n",
    "plt.plot(x_1, restriction_2, color='red', label=r'$-5x_1 + 2x_2 \\leq 10$')\n",
    "plt.plot(solution[0], solution[1], 'bo', label=r'Solution')\n",
    "# plt.fill_between(x_1, x_21, x_22, where=(x_21>0) & (x_21<x_1)  , color='grey', alpha=0.5)\n",
    " \n",
    "plt.xlabel('$x_1$')\n",
    "plt.ylabel('$x_2$')\n",
    "plt.legend()\n",
    "           \n",
    "plt.show()"
   ]
  },
  {
   "cell_type": "markdown",
   "id": "0fd270e1",
   "metadata": {},
   "source": [
    "### Ejemplo 1.4 Caso MILP\n",
    "En este caso se obtienen los resultados para variable con números enteros\n",
    "$$ \\space \\space \\max_{x_1,x_2}{3x_1+x_2} $$\n",
    "$$ 5x_1 + x_2 \\leq 20 $$\n",
    "$$ -5x_1 + 2x_2 \\leq 8 $$\n",
    "$$ x_1 , x_2 \\geq 0 $$\n",
    "$$ x_1 , x_2 \\in \\mathbb{Z} $$"
   ]
  },
  {
   "cell_type": "code",
   "execution_count": 19,
   "id": "67da5b80",
   "metadata": {},
   "outputs": [
    {
     "name": "stdout",
     "output_type": "stream",
     "text": [
      "Optimal\n",
      "Variable name: var_x_1 , Variable value : 2.0n\n",
      "Variable name: var_x_2 , Variable value : 9.0n\n",
      "\n",
      "constraint name:restriccion_1, constraint value:-1.0n\n",
      "constraint name:restriccion_2, constraint value:0.0n\n",
      "\n",
      "OBJECTIVE VALUE IS: 15.0\n"
     ]
    },
    {
     "data": {
      "image/png": "[encoded data removed]",
      "text/plain": [
       "<Figure size 720x360 with 1 Axes>"
      ]
     },
     "metadata": {
      "needs_background": "light"
     },
     "output_type": "display_data"
    }
   ],
   "source": [
    "prob = LpProblem('Ejemplo_1_2', LpMaximize)\n",
    "variables = ['x_1', 'x_2']\n",
    "variables_vars = LpVariable.dicts(\"var\",variables,lowBound=0,cat='Integer')\n",
    "\n",
    "c = dict(zip(variables,[3,1]))\n",
    "prob += lpSum([variables_vars[i]*c[i] for i in variables])\n",
    "\n",
    "restriction_1 = dict(zip(variables, [5, 1]))\n",
    "restriction_2 = dict(zip(variables, [-5, 2]))\n",
    "prob += lpSum([variables_vars[x]*restriction_1[x] for x in variables]) <= 20, \"restriccion_1\"\n",
    "prob += lpSum([variables_vars[x]*restriction_2[x] for x in variables]) <= 8, \"restriccion_2\"\n",
    "\n",
    "prob.solve()\n",
    "print(LpStatus[prob.status])\n",
    "\n",
    "for var in prob.variables():\n",
    "    print(f'Variable name: {var.name} , Variable value : {var.value()}n')\n",
    "print('')\n",
    "#We can also see the slack variables of the constraints\n",
    "for name, con in prob.constraints.items():\n",
    "    print(f'constraint name:{name}, constraint value:{con.value()}n')\n",
    "print('')\n",
    "## OBJECTIVE VALUE\n",
    "print(f'OBJECTIVE VALUE IS: {prob.objective.value()}')\n",
    "\n",
    "\n",
    "solution = [prob.variables()[0].value(),\n",
    "            prob.variables()[1].value()]\n",
    "\n",
    "x_1 = np.linspace(0, 5, 10)\n",
    "x_2 = x_1\n",
    "\n",
    "restriction_1 = 20 - 5*x_1\n",
    "restriction_2 = (8 + 5*x_1) / 2\n",
    " \n",
    "fig = plt.figure(figsize = (10, 5))\n",
    "\n",
    "plt.axvline(x = 0, color ='cornflowerblue', label = r'$x_1 \\geq 0$')\n",
    "plt.axhline(y = 0, color ='orange', label = r'$x_2 \\geq 0$')\n",
    "plt.plot(x_1, restriction_1, color='green', label=r'$5x_1 + x_2 \\leq 20$')\n",
    "plt.plot(x_1, restriction_2, color='red', label=r'$-5x_1 + 2x_2 \\leq 10$')\n",
    "plt.plot(solution[0], solution[1], 'bo', label=r'Solution')\n",
    "\n",
    "# plt.fill_between(x_1, x_21, x_22, where=(x_21>0) & (x_21<x_1)  , color='grey', alpha=0.5)\n",
    " \n",
    "plt.xlabel('$x_1$')\n",
    "plt.ylabel('$x_2$')\n",
    "plt.legend()\n",
    "plt.grid(color='r', linestyle='-', linewidth=0.2)\n",
    "\n",
    "plt.show()"
   ]
  }
 ],
 "metadata": {
  "kernelspec": {
   "display_name": "Python 3 (ipykernel)",
   "language": "python",
   "name": "python3"
  },
  "language_info": {
   "codemirror_mode": {
    "name": "ipython",
    "version": 3
   },
   "file_extension": ".py",
   "mimetype": "text/x-python",
   "name": "python",
   "nbconvert_exporter": "python",
   "pygments_lexer": "ipython3",
   "version": "3.8.12"
  }
 },
 "nbformat": 4,
 "nbformat_minor": 5
}
