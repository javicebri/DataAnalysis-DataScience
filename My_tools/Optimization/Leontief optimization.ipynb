{
 "cells": [
  {
   "cell_type": "code",
   "execution_count": 1,
   "id": "af628ac4",
   "metadata": {},
   "outputs": [],
   "source": [
    "import pandas as pd\n",
    "import numpy as np\n",
    "from numpy.linalg import pinv, inv, det\n",
    "import matplotlib.pyplot as plt\n",
    "import sys"
   ]
  },
  {
   "cell_type": "markdown",
   "id": "4d2da743",
   "metadata": {},
   "source": [
    "# Input-Output Planning \n",
    "\n",
    "### INDEX:\n",
    "- Introduction: Gross representation and technical representation of input/output matrix\n",
    "- Example with a toy model\n",
    "- Input-Output: Simulation of economy \n",
    "- Example 1: Produce with stored reserves along few cycles\n",
    "- Example 2.1: Optimzation of input resources to maximize excess of one resource\n",
    "- Example 2.2 Simulation with recursive optimization\n",
    "\n",
    "\n",
    "### Introduction\n",
    "### Gross representation\n",
    "\n",
    "The following table represents economical inputs and outputs. Rows are the inputs and colums the outputs. \n",
    "\n",
    "| Input\\Output | Sector 1 | Sector 2 | Sector 3 | Final demand | Total Output |\n",
    "| ---         | ---      |  ---     | ---      | ---   | --- |\n",
    "| Sector 1    | $p_{11}$ | $p_{12}$ | $p_{13}$ | $d_1$ | $X_1$ |\n",
    "| Sector 2    | $p_{21}$ | $p_{22}$ | $p_{23}$ | $d_2$ | $X_2$ |\n",
    "| Sector 3    | $p_{31}$ | $p_{32}$ | $p_{33}$ | $d_3$ | $X_3$ |\n",
    "| Total input | $Xin_1$ | $Xin_2$  | $Xin_3$  |\n",
    "\n",
    "Where $p_{ij}$ represents the products $i$ to produce $j$\n",
    "\n",
    "Final demand $d_i$ (or external production) represents the excess of production for each sector.\n",
    "\n",
    "Total input is = $ Xin_i=\\sum_{i}p_{ij}$\n",
    "\n",
    "Total production is: $ X_i=\\sum_{j}p_{ij} + d_i$\n",
    "\n",
    "### Technical representation\n",
    "\n",
    "| Input\\Output | Sector 1 | Sector 2 | Sector 3 | \n",
    "| ---         | ---      |  ---     | ---      | \n",
    "| Sector 1    | $a_{11}$ | $a_{12}$ | $a_{13}$ | \n",
    "| Sector 2    | $a_{21}$ | $a_{22}$ | $a_{23}$ | \n",
    "| Sector 3    | $a_{31}$ | $a_{32}$ | $a_{33}$ | \n",
    "\n",
    "\n",
    "Where $a_{ij}$ are the technical coefficients and represents the units of $i$ to produce $j$ \n",
    "\n",
    "Technological matrix is: $  \\textbf{A} = \\begin{pmatrix} p_{11} & p_{12} & p_{13} \\\\ p_{21} & p_{22} & p_{23} \\\\ p_{13} & p_{23} & p_{33} \\end{pmatrix} \\begin{pmatrix} X_1 & 0 & 0 \\\\ 0 & X_2 & 0 \\\\ 0 & 0 & X_3 \\end{pmatrix}^{-1} = \\begin{pmatrix} p_{11} & p_{12} & p_{13} \\\\ p_{21} & p_{22} & p_{23} \\\\ p_{13} & p_{23} & p_{33} \\end{pmatrix} \\begin{pmatrix} \\frac{1}{X_1} & 0 & 0 \\\\ 0 & \\frac{1}{X_2} & 0 \\\\ 0 & 0 & \\frac{1}{X_3} \\end{pmatrix} = \\begin{pmatrix} \\frac{p_{11}}{X_1} & \\frac{p_{12}}{X_2} & \\frac{p_{13}}{X_3} \\\\ \\frac{p_{21}}{X_1} & \\frac{p_{22}}{X_2} & \\frac{p_{23}}{X_3} \\\\ \\frac{p_{31}}{X_1} & \\frac{p_{32}}{X_2} & \\frac{p_{33}}{X_3} \\end{pmatrix} = \\begin{pmatrix} a_{11} & a_{12} & a_{13} \\\\ a_{21} & a_{22} & a_{23} \\\\ a_{13} & a_{23} & a_{33} \\end{pmatrix} $\n",
    "\n",
    "One application of this table is to calculate the total production $X$  of each sector in order to reach the objetive final demand (or excess) $d$:\n",
    "\n",
    "Like total production is:  \n",
    "$$ X_i=\\sum_{j}p_{ij} + d_i$$\n",
    "$$ X_i=\\sum_{j}a_{ij}X_i + d_i$$\n",
    "\n",
    "$$X = \\begin{pmatrix} X_1 \\\\ X_2 \\\\ X_3 \\end{pmatrix} = \\begin{pmatrix} \\frac{p_{11}}{X_1} & \\frac{p_{12}}{X_2} & \\frac{p_{13}}{X_3} \\\\ \\frac{p_{21}}{X_1} & \\frac{p_{22}}{X_2} & \\frac{p_{23}}{X_3} \\\\ \\frac{p_{31}}{X_1} & \\frac{p_{32}}{X_2} & \\frac{p_{33}}{X_3} \\end{pmatrix}\\begin{pmatrix} X_1 \\\\ X_2 \\\\ X_3 \\end{pmatrix}  + \\begin{pmatrix} d_1 \\\\ d_2 \\\\ d_3 \\end{pmatrix} = \\begin{pmatrix} a_{11} & a_{12} & a_{13} \\\\ a_{21} & a_{22} & a_{23} \\\\ a_{13} & a_{23} & a_{33} \\end{pmatrix}\\begin{pmatrix} X_1 \\\\ X_2 \\\\ X_3 \\end{pmatrix} + \\begin{pmatrix} d_1 \\\\ d_2 \\\\ d_3 \\end{pmatrix}= AX + d$$\n",
    "\n",
    "$$ X-AX = d $$\n",
    "\n",
    "$$ (I-A)X = d $$\n",
    "\n",
    "$$ \\textbf{X} = (I-A)^{-1}d $$\n",
    "\n",
    "$\\newline$\n",
    "$\\newline$\n",
    "$\\newline$\n",
    "\n",
    "NOTE: $\\textbf{I} - \\textbf{A}$ also is known as Leontief matrix: $\\textbf{L} = \\textbf{I} - \\textbf{A} = \\begin{pmatrix} 1 & 0 & 0 \\\\ 0 & 1 & 0 \\\\ 0 & 0 & 1 \\end{pmatrix} - \\begin{pmatrix} a_{11} & a_{12} & a_{13} \\\\ a_{21} & a_{22} & a_{23} \\\\ a_{13} & a_{23} & a_{33} \\end{pmatrix}$"
   ]
  },
  {
   "cell_type": "markdown",
   "id": "079f2a0d",
   "metadata": {},
   "source": [
    "## Example with a toy model\n",
    "\n",
    "Our example economy has three products: wheat, wood and iron with the following I/O table:\n",
    "\n",
    "The technical coefficients are:\n",
    "\n",
    "| Input\\Output | Wheat    | Wood     | Iron     | \n",
    "| ---          | ---      |  ---     | ---      |\n",
    "| Wheat        | 0.5      | 0.25     | 0.25     |\n",
    "| Wood         | 0.25     | 0.25     | 0.25     |\n",
    "| Iron         | 0.25     | 0.25     | 0.5      |\n",
    "\n",
    "And the target excess of production is \n",
    "\n",
    "| Sector       | d    |\n",
    "| ---          | ---  | \n",
    "| Wheat        | 20   | \n",
    "| Wood         | 10   | \n",
    "| Iron         | 10   | \n",
    "\n",
    "The total output needed is: $$ \\textbf{X} = (\\textbf{I}-\\textbf{A})^{-1}\\textbf{d} $$\n",
    "\n"
   ]
  },
  {
   "cell_type": "code",
   "execution_count": 2,
   "id": "3a022b15",
   "metadata": {},
   "outputs": [
    {
     "name": "stdout",
     "output_type": "stream",
     "text": [
      "Total production to reach the excess is:\n",
      "Wheat: 226.667, Wood: 160.0, Iron: 213.333\n"
     ]
    }
   ],
   "source": [
    "products = ['wheat','wood','iron']\n",
    "a_io = np.array([[0.5, 0.25, 0.25],[0.25, 0.25, 0.25],[0.25, 0.25, 0.5]])\n",
    "a_io_df = pd.DataFrame(a_io, columns=products, index=products)\n",
    "d = np.array([20, 10, 10])\n",
    "X = np.matmul(inv(np.identity(3) - a_io), (d))\n",
    "X = np.round(X, 3)\n",
    "\n",
    "print('Total production to reach the excess is:')\n",
    "print('Wheat: %s, Wood: %s, Iron: %s' %(str(X[0]), str(X[1]), str(X[2])))"
   ]
  },
  {
   "cell_type": "markdown",
   "id": "f65adb9d",
   "metadata": {},
   "source": [
    "# Input-Output: Simulation of economy \n",
    "\n",
    "### Technical representation\n",
    "\n",
    "| Input\\Output | Sector 1 | Sector 2 | Sector 3 | Final demand | Total Output |\n",
    "| ---         | ---      |  ---     | ---      | ---   | --- |\n",
    "| Sector 1    | $a_{11}$ | $a_{12}$ | $a_{13}$ | $d_1$ | $X_1$ |\n",
    "| Sector 2    | $a_{21}$ | $a_{22}$ | $a_{23}$ | $d_2$ | $X_2$ |\n",
    "| Sector 3    | $a_{31}$ | $a_{32}$ | $a_{33}$ | $d_3$ | $X_3$ |\n",
    "| Total input | $Xin_1$ | $Xin_2$  | $Xin_3$  |\n",
    "\n",
    "\n",
    "Where $a_{ij}$ are the technical coefficients and represents the units of $i$ to produce $j$ \n",
    "\n",
    "Technological matrix is: $  \\textbf{A} = \\begin{pmatrix} a_{11} & a_{12} & a_{13} \\\\ a_{21} & a_{22} & a_{23} \\\\ a_{13} & a_{23} & a_{33} \\end{pmatrix} $, total production is $  \\textbf{X} = \\begin{pmatrix} X_{1} \\\\ X_{2} \\\\ X_{3} \\end{pmatrix} $ and excess is $  \\textbf{d} = \\begin{pmatrix} d_{1} \\\\ d_{2} \\\\ d_{3} \\end{pmatrix} $\n",
    "\n",
    "Like total production is:  \n",
    "$$ X_i=\\sum_{j}a_{ij}X_i + d_i$$\n",
    "\n",
    "$$X = \\begin{pmatrix} X_1 \\\\ X_2 \\\\ X_3 \\end{pmatrix} = \\begin{pmatrix} a_{11} & a_{12} & a_{13} \\\\ a_{21} & a_{22} & a_{23} \\\\ a_{13} & a_{23} & a_{33} \\end{pmatrix}\\begin{pmatrix} X_1 \\\\ X_2 \\\\ X_3 \\end{pmatrix} + \\begin{pmatrix} d_1 \\\\ d_2 \\\\ d_3 \\end{pmatrix}= AX + d$$\n",
    "\n",
    "\n",
    "$$ \\textbf{d} = \\textbf{X}-\\textbf{AX} = (\\textbf{I}-\\textbf{A})\\textbf{X} $$\n",
    "\n",
    "In N cicles with constant $A$:\n",
    "\n",
    "$$ \\textbf{d_N} = \\textbf{X}_{N-1}-\\textbf{AX}_{N-1} = (\\textbf{I}-\\textbf{A})\\textbf{X}_{N-1} =  (\\textbf{I}-\\textbf{A})^2 \\textbf{X}_{N-2} = ... =   (\\textbf{I}-\\textbf{A})^N \\textbf{X}_{0}$$"
   ]
  },
  {
   "cell_type": "markdown",
   "id": "32ee7e29",
   "metadata": {},
   "source": [
    "### Example 1: Produce with stored reserves along few cycles\n",
    "\n",
    "This toy model has an store with the inital resources to start production. \n",
    "\n",
    "Along n cycles:\n",
    "\n",
    "1- Fix quantity of resources to produce. In this case the input is determined with a factor applied over the current state of the store. During this phase it is necessary check if there are enough resources to start production. \n",
    "- $ Xin_j = \\beta_j S_j$, where $Xin_j$ is input resources for each sector $j$, $\\beta_j$ is the ratio of stored resources to be used as input and $S_j$ is the stored resource. So $ Xin = \\beta \\circ S$ with $ \\circ $ the hadamard product.\n",
    "- The input of each sector must be $ Xin_j \\leq S_j$, where $a_{ij}$ are the technical coefficients.\n",
    "\n",
    "2- Withdraw resources in stores: $S_j[n] = S_j[n-1] - Xin_j[n] $\n",
    "\n",
    "3- Determine $\\textbf{X}$: like $ Xin_j=\\sum_{i}a_{ij}X_j \\xrightarrow{} \\textbf{Xin}^T = \\textbf{X}^T\\textbf{A} \\xrightarrow{} \\textbf{X}^T = \\textbf{Xin}^T\\textbf{A}^{-1} $  \n",
    "\n",
    "4- Produce and store $d$ excess:\n",
    "$ \\textbf{d} = \\textbf{X}-\\textbf{AX} = (\\textbf{I}-\\textbf{A})\\textbf{X} $ or like $\\textbf{X} = \\textbf{Xp} + \\textbf{d} \\xrightarrow{} \\textbf{d} = \\textbf{X} - \\textbf{Xp} $, where $\\textbf{Xp}$ used in production is $\\textbf{Xp}=\\textbf{AX}$\n"
   ]
  },
  {
   "cell_type": "code",
   "execution_count": 3,
   "id": "a8d1b202",
   "metadata": {},
   "outputs": [
    {
     "name": "stdout",
     "output_type": "stream",
     "text": [
      "Technical matrix\n",
      "      X1    X2    X3\n",
      "X1  0.40  0.03  0.02\n",
      "X2  0.06  0.37  0.10\n",
      "X3  0.12  0.15  0.19\n",
      "\n"
     ]
    },
    {
     "data": {
      "image/png": "[encoded data removed]",
      "text/plain": [
       "<Figure size 432x288 with 1 Axes>"
      ]
     },
     "metadata": {
      "needs_background": "light"
     },
     "output_type": "display_data"
    },
    {
     "data": {
      "image/png": "[encoded data removed]",
      "text/plain": [
       "<Figure size 432x288 with 1 Axes>"
      ]
     },
     "metadata": {
      "needs_background": "light"
     },
     "output_type": "display_data"
    }
   ],
   "source": [
    "########### INPUT\n",
    "# Technical matrix\n",
    "a_io = np.array([[0.4, 0.03, 0.02],[0.06, 0.37, 0.1],[0.12, 0.15, 0.19]])\n",
    "# Stored reserves\n",
    "S = np.array([[1000], [1000], [1000]])\n",
    "# beta coefficients\n",
    "b = np.array([[0.72182638], [0.30855825] , [0.17805353]])\n",
    "# Number of iterations\n",
    "cycles = 2\n",
    "\n",
    "########### PRINT INPUT\n",
    "\n",
    "print('Technical matrix')\n",
    "a_io_df = pd.DataFrame(a_io, columns=['X1', 'X2', 'X3'], index=['X1', 'X2', 'X3'] )\n",
    "print(a_io_df)\n",
    "print('')\n",
    "\n",
    "########### SIMULATION\n",
    "\n",
    "# Historical values to plot the evolution of stored reserves and excess produced\n",
    "S_hist = np.reshape(S,(-1,3))\n",
    "d_hist = np.array([[1000, 1000, 1000]])\n",
    "\n",
    "for cycle in range(1,cycles + 1):\n",
    "    \n",
    "    X_in = np.multiply(b,S)\n",
    "    S = S - X_in\n",
    "    if(S<0).any():\n",
    "        sys.exit('Warning: Cannot continue with producion S. Cycle = %s' %(cycle))\n",
    "    X_T = np.matmul(np.transpose(X_in), pinv(a_io))\n",
    "    X = np.transpose(X_T)\n",
    "    Xp= np.matmul(a_io, X)\n",
    "    if(X<0).any():\n",
    "        sys.exit('Warning: Cannot continue with producion X. Cycle = %s' %(cycle))\n",
    "    d = X - Xp\n",
    "    d_hist = np.append(d_hist, np.reshape(d,(-1,3)), axis=0)\n",
    "    S = S + d\n",
    "    if(S<0).any() or (d<0).any():\n",
    "        sys.exit('Warning: Cannot continue with producion S/D. Cycle = %s' %(cycle))\n",
    "    S_hist = np.append(S_hist, np.reshape(S,(-1,3)), axis=0)\n",
    "\n",
    "########### PLOT\n",
    "\n",
    "labels = ['$X_1$', '$X_2$', '$X_3$']\n",
    "x = np.arange(0,len(S_hist))\n",
    "for y, label in zip(np.transpose(S_hist), labels):\n",
    "    plt.plot(x, y, label=label)\n",
    "plt.xticks(x)\n",
    "plt.xlabel('Cycle')\n",
    "plt.ylabel('Stored units')\n",
    "plt.title('Store')\n",
    "plt.legend()\n",
    "plt.show()\n",
    "\n",
    "for y, label in zip(np.transpose(d_hist[1:]), labels):\n",
    "    plt.plot(x[1:], y, label=label)\n",
    "plt.xticks(x[1:])\n",
    "plt.ylabel('Produced units')\n",
    "plt.xlabel('Cycle')\n",
    "plt.title('Excess produced by cycle')\n",
    "plt.legend()\n",
    "plt.show()"
   ]
  },
  {
   "cell_type": "markdown",
   "id": "b5c36acf",
   "metadata": {},
   "source": [
    "### Example 2.1: Optimzation of input resources to maximize excess of one resource\n",
    "\n",
    "Optimize $\\beta$ values that maximizes excess of $d_1$ resource. $\\textbf{d}$.\n",
    "\n",
    "The problem requires the following constrains:\n",
    "- Take less or equal units of each resource from the store to start production $$ \\textbf{Xin} \\leq \\textbf{S} $$\n",
    "- Total production must be greater than 0 for each resource $$ \\textbf{X} \\geq 0 $$\n",
    "- Excess of production must be greater than 0 for each resource $$ \\textbf{d} \\geq 0 $$\n",
    "\n",
    "$$ \\space \\space \\max_{\\textbf{d}} d_1 $$\n",
    "$$ Xin_1 \\leq S_1 $$\n",
    "$$ Xin_2 \\leq S_2 $$\n",
    "$$ Xin_3 \\leq S_3 $$\n",
    "$$ X_1 \\geq 0 $$\n",
    "$$ X_2 \\geq 0 $$\n",
    "$$ X_3 \\geq 0 $$\n",
    "$$ d_1 \\geq 0 $$\n",
    "$$ d_2 \\geq 0 $$\n",
    "$$ d_3 \\geq 0 $$\n",
    "\n",
    "To implement the objetive function $d$ is defined as:\n",
    "$$ \\textbf{d} = \\textbf{X} - \\textbf{AX} = (\\textbf{I}-\\textbf{A})\\textbf{X} = (\\textbf{I}-\\textbf{A})(\\textbf{Xin}^T\\textbf{A}^{-1})^T = (\\textbf{I}-\\textbf{A})(( \\beta \\circ \\textbf{S})^T\\textbf{A}^{-1})^T $$\n",
    "Where $ \\circ $ is the hadamard product."
   ]
  },
  {
   "cell_type": "code",
   "execution_count": 4,
   "id": "f6e512d5",
   "metadata": {},
   "outputs": [],
   "source": [
    "from scipy.optimize import minimize"
   ]
  },
  {
   "cell_type": "code",
   "execution_count": 5,
   "id": "cddb26b8",
   "metadata": {},
   "outputs": [],
   "source": [
    "# Technical matrix\n",
    "a_io = np.array([[0.4, 0.03, 0.02],[0.06, 0.37, 0.1],[0.12, 0.15, 0.19]])\n",
    "\n",
    "# Stored reserves\n",
    "S = np.array([[1000], [1000], [1000]])"
   ]
  },
  {
   "cell_type": "code",
   "execution_count": 6,
   "id": "b79c159b",
   "metadata": {},
   "outputs": [],
   "source": [
    "def calc_d(b, S, a_io): \n",
    "    \"\"\"\n",
    "    Calculates d excess vector \n",
    "    Arguments:\n",
    "        b: an np.array beta coefficients nx1\n",
    "        a_io: np.array technical matrix nxn\n",
    "        S: np.array with the reserves in store nx1\n",
    "    Returns:\n",
    "        d excess vector nx1\n",
    "    \"\"\"\n",
    "    dim = a_io.shape[0]\n",
    "    a = (np.identity(dim) - a_io)\n",
    "    bb = np.multiply(b.reshape([dim,-1]),S)\n",
    "    c = np.matmul(np.transpose(bb), pinv(a_io))\n",
    "    d = np.matmul(a,np.transpose(c)) \n",
    "    return d\n",
    "\n",
    "def calc_xin(b, S): \n",
    "    \"\"\"\n",
    "    Calculates X_in values according beta coefficients and stored reserves \n",
    "    Arguments:\n",
    "        b: an np.array beta coefficients nx1\n",
    "        S: np.array with the reserves in store nx1\n",
    "    Returns:\n",
    "        xin input vector nx1\n",
    "    \"\"\"\n",
    "    bb = np.multiply(b,S)\n",
    "    return bb\n",
    "\n",
    "def calc_x(b, S, a_io):\n",
    "    \"\"\"\n",
    "    Calculates X values according beta coefficients and stored reserves and technical matrix\n",
    "    Arguments:\n",
    "        b: an np.array beta coefficients nx1\n",
    "        S: np.array with the reserves in store nx1\n",
    "        a_io: np.array technical matrix nxn\n",
    "    Returns:\n",
    "        x total production vector nx1\n",
    "    \"\"\"\n",
    "    bb = np.multiply(b,S)\n",
    "    X = np.matmul(np.transpose(bb), pinv(a_io))\n",
    "    return np.transpose(X)"
   ]
  },
  {
   "cell_type": "code",
   "execution_count": 7,
   "id": "0fdf1890",
   "metadata": {},
   "outputs": [],
   "source": [
    "def obj_max_func_b1(b, S, a_io): \n",
    "    \"\"\"\n",
    "    Objetive function, maximize d_1 (remind use '-' because optimizer function in scipy is minimize)\n",
    "    Arguments:\n",
    "        b: an np.array beta coefficients nx1\n",
    "        S: np.array with the reserves in store nx1\n",
    "        a_io: np.array technical matrix nxn\n",
    "    Returns:\n",
    "        -d_1 value\n",
    "    \"\"\"\n",
    "    dim = a_io.shape[0]\n",
    "    a = (np.identity(dim) - a_io)\n",
    "    bb = np.multiply(b.reshape([dim,-1]),S)\n",
    "    c = np.matmul(np.transpose(bb), pinv(a_io))\n",
    "    d = np.matmul(a,np.transpose(c))\n",
    "    return -d[0].item() #Like is maximized remind - sign"
   ]
  },
  {
   "cell_type": "markdown",
   "id": "52dfa70e",
   "metadata": {},
   "source": [
    "Constrains and bounds"
   ]
  },
  {
   "cell_type": "code",
   "execution_count": 8,
   "id": "f0303d9a",
   "metadata": {},
   "outputs": [],
   "source": [
    "cons = [{'type': 'ineq', 'fun': lambda x: -calc_xin(x,S)[0] + 1000},\n",
    "        {'type': 'ineq', 'fun': lambda x: -calc_xin(x,S)[1] + 1000},\n",
    "        {'type': 'ineq', 'fun': lambda x: -calc_xin(x,S)[2] + 1000},\n",
    "        {'type': 'ineq', 'fun': lambda x: calc_d(x, S, a_io)[0] - 0.15},\n",
    "        {'type': 'ineq', 'fun': lambda x: calc_d(x, S, a_io)[1] - 0.15},\n",
    "        {'type': 'ineq', 'fun': lambda x: calc_d(x, S, a_io)[2] - 0.15},\n",
    "        {'type': 'ineq', 'fun': lambda x: calc_x(b, S, a_io)[0] - 0.1},\n",
    "        {'type': 'ineq', 'fun': lambda x: calc_x(b, S, a_io)[1] - 0.1},\n",
    "        {'type': 'ineq', 'fun': lambda x: calc_x(b, S, a_io)[2] - 0.1}]\n",
    "\n",
    "bounds = [(0, 1) for n in range(0,a_io.shape[0])]\n",
    "\n",
    "options={'eps': 1.4901161193847656e-09, 'maxiter' : 100}"
   ]
  },
  {
   "cell_type": "markdown",
   "id": "3530cf6a",
   "metadata": {},
   "source": [
    "Apply optimizer"
   ]
  },
  {
   "cell_type": "code",
   "execution_count": 9,
   "id": "b598926a",
   "metadata": {},
   "outputs": [
    {
     "data": {
      "text/plain": [
       "     fun: -1385.7614824475113\n",
       "     jac: array([-1556.18283814,    50.02349872,  1048.62335596])\n",
       " message: 'Positive directional derivative for linesearch'\n",
       "    nfev: 16\n",
       "     nit: 8\n",
       "    njev: 4\n",
       "  status: 8\n",
       " success: False\n",
       "       x: array([0.99999975, 0.23594143, 0.15126352])"
      ]
     },
     "execution_count": 9,
     "metadata": {},
     "output_type": "execute_result"
    }
   ],
   "source": [
    "res = minimize(\n",
    "    obj_max_func_b1,\n",
    "    x0=np.array([0,0,0]),\n",
    "    args=(S, a_io),\n",
    "    constraints=cons,\n",
    "    bounds=bounds,\n",
    "    method = 'SLSQP',\n",
    "    options = options\n",
    ")\n",
    "res"
   ]
  },
  {
   "cell_type": "markdown",
   "id": "94416ea1",
   "metadata": {},
   "source": [
    "Use the result in the simulation:"
   ]
  },
  {
   "cell_type": "code",
   "execution_count": 10,
   "id": "39119517",
   "metadata": {},
   "outputs": [
    {
     "name": "stdout",
     "output_type": "stream",
     "text": [
      "Technical matrix\n",
      "      X1    X2    X3\n",
      "X1  0.40  0.03  0.02\n",
      "X2  0.06  0.37  0.10\n",
      "X3  0.12  0.15  0.19\n",
      "\n"
     ]
    },
    {
     "data": {
      "image/png": "[encoded data removed]",
      "text/plain": [
       "<Figure size 432x288 with 1 Axes>"
      ]
     },
     "metadata": {
      "needs_background": "light"
     },
     "output_type": "display_data"
    },
    {
     "data": {
      "image/png": "[encoded data removed]",
      "text/plain": [
       "<Figure size 432x288 with 1 Axes>"
      ]
     },
     "metadata": {
      "needs_background": "light"
     },
     "output_type": "display_data"
    }
   ],
   "source": [
    "########### INPUT\n",
    "# Technical matrix\n",
    "a_io = np.array([[0.4, 0.03, 0.02],[0.06, 0.37, 0.1],[0.12, 0.15, 0.19]])\n",
    "# Stored reserves\n",
    "S = np.array([[1000], [1000], [1000]])\n",
    "# beta coefficients from the result\n",
    "dim = a_io.shape[0]\n",
    "b = res.x.reshape([dim,-1])\n",
    "# Number of iterations\n",
    "cycles = 1\n",
    "\n",
    "########### PRINT INPUT\n",
    "\n",
    "print('Technical matrix')\n",
    "a_io_df = pd.DataFrame(a_io, columns=['X1', 'X2', 'X3'], index=['X1', 'X2', 'X3'] )\n",
    "print(a_io_df)\n",
    "print('')\n",
    "\n",
    "########### SIMULATION\n",
    "\n",
    "# Historical values to plot the evolution of stored reserves and excess produced\n",
    "S_hist = np.reshape(S,(-1,3))\n",
    "d_hist = np.array([[1000, 1000, 1000]])\n",
    "for cycle in range(1,cycles + 1):\n",
    "    \n",
    "    X_in = np.multiply(b,S)\n",
    "    S = S - X_in\n",
    "    if(S<0).any():\n",
    "        sys.exit('Warning: Cannot continue with producion S. Cycle = %s' %(cycle))\n",
    "    X_T = np.matmul(np.transpose(X_in), pinv(a_io))\n",
    "    X = np.transpose(X_T)\n",
    "    Xp= np.matmul(a_io, X)\n",
    "    if(X<0).any():\n",
    "        sys.exit('Warning: Cannot continue with producion X. Cycle = %s' %(cycle))\n",
    "    d = X - Xp\n",
    "    d_hist = np.append(d_hist, np.reshape(d,(-1,3)), axis=0)\n",
    "    S = S + d\n",
    "    if(S<0).any() or (d<0).any():\n",
    "        sys.exit('Warning: Cannot continue with producion S/D. Cycle = %s' %(cycle))\n",
    "    S_hist = np.append(S_hist, np.reshape(S,(-1,3)), axis=0)\n",
    "\n",
    "########### PLOT\n",
    "\n",
    "labels = ['$X_1$', '$X_2$', '$X_3$']\n",
    "x = np.arange(0,len(S_hist))\n",
    "for y, label in zip(np.transpose(S_hist), labels):\n",
    "    plt.plot(x, y, label=label)\n",
    "plt.xticks(x)\n",
    "plt.xlabel('Cycle')\n",
    "plt.ylabel('Stored units')\n",
    "plt.title('Store')\n",
    "plt.legend()\n",
    "plt.show()\n",
    "\n",
    "for y, label in zip(np.transpose(d_hist[1:]), labels):\n",
    "    plt.plot(x[1:], y, label=label)\n",
    "plt.xticks(x[1:])\n",
    "plt.ylabel('Produced units')\n",
    "plt.xlabel('Cycle')\n",
    "plt.title('Excess produced by cycle')\n",
    "plt.legend()\n",
    "plt.show()"
   ]
  },
  {
   "cell_type": "markdown",
   "id": "e2ad92b3",
   "metadata": {},
   "source": [
    "### Example 2.2 Simulation with recursive optimization\n",
    "\n",
    "In this case the optmization of $d_1$ is applied along N cycles"
   ]
  },
  {
   "cell_type": "code",
   "execution_count": 11,
   "id": "6cfbe5f6",
   "metadata": {},
   "outputs": [
    {
     "name": "stdout",
     "output_type": "stream",
     "text": [
      "Technical matrix\n",
      "      X1    X2    X3\n",
      "X1  0.40  0.03  0.02\n",
      "X2  0.06  0.37  0.10\n",
      "X3  0.12  0.15  0.19\n",
      "\n",
      "Number of cycles: 10\n"
     ]
    },
    {
     "data": {
      "image/png": "[encoded data removed]",
      "text/plain": [
       "<Figure size 432x288 with 1 Axes>"
      ]
     },
     "metadata": {
      "needs_background": "light"
     },
     "output_type": "display_data"
    },
    {
     "data": {
      "image/png": "[encoded data removed]",
      "text/plain": [
       "<Figure size 432x288 with 1 Axes>"
      ]
     },
     "metadata": {
      "needs_background": "light"
     },
     "output_type": "display_data"
    }
   ],
   "source": [
    "########### INPUT\n",
    "# Technical matrix\n",
    "a_io = np.array([[0.4, 0.03, 0.02],[0.06, 0.37, 0.1],[0.12, 0.15, 0.19]])\n",
    "# Stored reserves\n",
    "S = np.array([[1000], [1000], [1000]])\n",
    "# beta coefficients from the result\n",
    "# Number of iterations\n",
    "cycles = 10\n",
    "\n",
    "########### PRINT INPUT\n",
    "\n",
    "print('Technical matrix')\n",
    "a_io_df = pd.DataFrame(a_io, columns=['X1', 'X2', 'X3'], index=['X1', 'X2', 'X3'] )\n",
    "print(a_io_df)\n",
    "print('')\n",
    "\n",
    "########### SIMULATION\n",
    "\n",
    "# Historical values to plot the evolution of stored reserves and excess produced\n",
    "S_hist = np.reshape(S,(-1,3))\n",
    "d_hist = np.array([[1000, 1000, 1000]])\n",
    "dim = a_io.shape[0]\n",
    "\n",
    "for cycle in range(1,cycles + 1):\n",
    "    \n",
    "    res = minimize(\n",
    "    obj_max_func_b1,\n",
    "    x0=np.array([0,0,0]),\n",
    "    args=(S, a_io),\n",
    "    constraints=cons,\n",
    "    bounds=bounds,\n",
    "    method = 'SLSQP',\n",
    "    options = options)\n",
    "\n",
    "    b = res.x.reshape([dim,-1])\n",
    "    \n",
    "    X_in = np.multiply(b,S)\n",
    "    S = S - X_in\n",
    "    if(S<0).any():\n",
    "        pass\n",
    "        #sys.exit('Warning: Cannot continue with producion S. Cycle = %s' %(cycle))\n",
    "    X_T = np.matmul(np.transpose(X_in), pinv(a_io))\n",
    "    X = np.transpose(X_T)\n",
    "    Xp= np.matmul(a_io, X)\n",
    "    if(X<0).any():\n",
    "        pass\n",
    "        #sys.exit('Warning: Cannot continue with producion X. Cycle = %s' %(cycle))\n",
    "    d = X - Xp\n",
    "    d_hist = np.append(d_hist, np.reshape(d,(-1,3)), axis=0)\n",
    "    S = S + d\n",
    "    if(S<0).any() or (d<0).any():\n",
    "        pass\n",
    "        #sys.exit('Warning: Cannot continue with producion S/D. Cycle = %s' %(cycle))\n",
    "    S_hist = np.append(S_hist, np.reshape(S,(-1,3)), axis=0)\n",
    "\n",
    "########### PLOT\n",
    "\n",
    "print('Number of cycles: %s' %(cycle))\n",
    "\n",
    "labels = ['$X_1$', '$X_2$', '$X_3$']\n",
    "x = np.arange(0,len(S_hist))\n",
    "for y, label in zip(np.transpose(S_hist), labels):\n",
    "    plt.plot(x, y, label=label)\n",
    "# plt.xticks(x)\n",
    "plt.xlabel('Cycle')\n",
    "plt.ylabel('Stored units')\n",
    "plt.title('Store')\n",
    "plt.legend()\n",
    "plt.show()\n",
    "\n",
    "for y, label in zip(np.transpose(d_hist[1:]), labels):\n",
    "    plt.plot(x[1:], y, label=label)\n",
    "# plt.xticks(x[1:])\n",
    "plt.ylabel('Produced units')\n",
    "plt.xlabel('Cycle')\n",
    "plt.title('Excess produced by cycle')\n",
    "plt.legend()\n",
    "plt.show()\n"
   ]
  },
  {
   "cell_type": "code",
   "execution_count": null,
   "id": "4d840ff6",
   "metadata": {},
   "outputs": [],
   "source": []
  }
 ],
 "metadata": {
  "kernelspec": {
   "display_name": "Python 3 (ipykernel)",
   "language": "python",
   "name": "python3"
  },
  "language_info": {
   "codemirror_mode": {
    "name": "ipython",
    "version": 3
   },
   "file_extension": ".py",
   "mimetype": "text/x-python",
   "name": "python",
   "nbconvert_exporter": "python",
   "pygments_lexer": "ipython3",
   "version": "3.8.12"
  }
 },
 "nbformat": 4,
 "nbformat_minor": 5
}
